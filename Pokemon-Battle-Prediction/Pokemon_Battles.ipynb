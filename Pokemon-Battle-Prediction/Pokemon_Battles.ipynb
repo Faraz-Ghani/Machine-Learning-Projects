{
  "cells": [
    {
      "cell_type": "markdown",
      "metadata": {
        "colab_type": "text",
        "id": "view-in-github"
      },
      "source": [
        "<a href=\"https://colab.research.google.com/github/Faraz-Ghani/Machine-Learning-Projects/blob/main/Pokemon-Battle-Prediction/Pokemon_Battles.ipynb\" target=\"_parent\"><img src=\"https://colab.research.google.com/assets/colab-badge.svg\" alt=\"Open In Colab\"/></a>"
      ]
    },
    {
      "cell_type": "markdown",
      "metadata": {
        "id": "bg4XHKUj3Pzz"
      },
      "source": [
        "Import the Libararies"
      ]
    },
    {
      "cell_type": "code",
      "execution_count": 100,
      "metadata": {
        "id": "QqXsVkddiiTR"
      },
      "outputs": [],
      "source": [
        "import pandas as pd\n",
        "import numpy as np\n",
        "import tensorflow as tf\n",
        "from sklearn.model_selection import train_test_split\n",
        "from sklearn.preprocessing import OneHotEncoder,StandardScaler\n",
        "from tensorflow.keras.models import Sequential\n",
        "from tensorflow.keras.layers import Dense"
      ]
    },
    {
      "cell_type": "markdown",
      "metadata": {
        "id": "uwcFVkDHjPfy"
      },
      "source": [
        "Import the datasets"
      ]
    },
    {
      "cell_type": "code",
      "execution_count": 125,
      "metadata": {
        "id": "bFmBt6j2ip-j"
      },
      "outputs": [],
      "source": [
        "combat = pd.read_csv(\"/content/Pokemon/combats.csv\")\n",
        "pokemon = pd.read_csv(\"/content/Pokemon/pokemon.csv\")\n",
        "\n",
        "pokemon.head()\n",
        "\n",
        "pokemon['Type 2'].fillna('None', inplace=True)  # Fill NaNs in 'Type 2' since many pokemon are single type\n"
      ]
    },
    {
      "cell_type": "code",
      "execution_count": 102,
      "metadata": {
        "id": "KgH7Jx3Zmnel"
      },
      "outputs": [],
      "source": [
        "encoder = OneHotEncoder(sparse_output=False, handle_unknown='ignore')\n",
        "types = pokemon[['Type 1', 'Type 2']]  # Collect types of all pokemon\n",
        "encoded_types = encoder.fit_transform(types) # Use One hot encoding for types\n",
        "stats = pokemon.iloc[:,4:10].values # Collect stats of all pokemon\n",
        "legendary = pokemon.iloc[:,11].astype(int).values.reshape(-1, 1) #Check legendary status"
      ]
    },
    {
      "cell_type": "code",
      "execution_count": 103,
      "metadata": {
        "id": "FflHaFPwmrfU"
      },
      "outputs": [],
      "source": [
        "pokemon_features = np.hstack([stats, legendary, encoded_types]) # Convert collected data to fetaures\n",
        "\n",
        "# Create a mapping from Pokémon ID to their features\n",
        "pokemon_id_to_features = dict(zip(pokemon['#'], pokemon_features))"
      ]
    },
    {
      "cell_type": "code",
      "execution_count": 104,
      "metadata": {
        "id": "FLqfuZF9sVJg"
      },
      "outputs": [],
      "source": [
        "def combat_data(combat, pokemon_id_to_features):\n",
        "  features, labels = [],[]\n",
        "\n",
        "  for _,row in combat.iterrows(): #For battle\n",
        "    pokemon_a_features = pokemon_id_to_features[row['First_pokemon']] # Get stats of first pokemon\n",
        "    pokemon_b_features = pokemon_id_to_features[row['Second_pokemon']] # # Get stats of second pokemon\n",
        "    #Convert both pokemon data to a horizontal stack and then append that horizontal stack to the features\n",
        "    features.append(np.hstack([pokemon_a_features,pokemon_b_features]))\n",
        "    if row['Winner'] == row['First_pokemon']:\n",
        "      labels.append(0) #Return zero if first pokemon is winner\n",
        "    else:\n",
        "      labels.append(1) #Return 1 if second pokemon is winner\n",
        "  # Return both X and Y\n",
        "  return np.array(features), np.array(labels)\n"
      ]
    },
    {
      "cell_type": "code",
      "execution_count": 105,
      "metadata": {
        "id": "EuaFZqrSuOEj"
      },
      "outputs": [],
      "source": [
        "X, y = combat_data(combat, pokemon_id_to_features)"
      ]
    },
    {
      "cell_type": "code",
      "execution_count": 106,
      "metadata": {
        "id": "13d_Jn8xuTlk"
      },
      "outputs": [],
      "source": [
        "# Split the data into training and validation sets\n",
        "X_train, X_val, y_train, y_val = train_test_split(X, y, test_size=0.2, random_state=42)\n"
      ]
    },
    {
      "cell_type": "code",
      "execution_count": 107,
      "metadata": {
        "id": "Z-vijLRqvMfD"
      },
      "outputs": [],
      "source": [
        "# Normalization\n",
        "scaler = StandardScaler()\n",
        "X_train = scaler.fit_transform((X_train))\n",
        "X_val = scaler.transform(X_val)"
      ]
    },
    {
      "cell_type": "code",
      "execution_count": 108,
      "metadata": {
        "id": "t7uQO_8zw6-Q"
      },
      "outputs": [],
      "source": [
        "# Define the model\n",
        "model = Sequential([\n",
        "    Dense(128,activation='relu',input_shape=(X_train.shape[1],)),\n",
        "    Dense(64,activation='relu'),\n",
        "    Dense(1,activation='sigmoid')\n",
        "])\n",
        "# Compile the model\n",
        "model.compile(optimizer='adam',loss='binary_crossentropy',metrics=['accuracy'])"
      ]
    },
    {
      "cell_type": "code",
      "execution_count": 109,
      "metadata": {
        "colab": {
          "base_uri": "https://localhost:8080/"
        },
        "id": "nDT4D1CRxzlH",
        "outputId": "353ca9f2-0683-43e0-ad36-952b7596f4c3"
      },
      "outputs": [
        {
          "name": "stdout",
          "output_type": "stream",
          "text": [
            "Epoch 1/20\n",
            "1250/1250 [==============================] - 4s 2ms/step - loss: 0.3479 - accuracy: 0.8626 - val_loss: 0.2774 - val_accuracy: 0.8981\n",
            "Epoch 2/20\n",
            "1250/1250 [==============================] - 3s 2ms/step - loss: 0.2205 - accuracy: 0.9184 - val_loss: 0.1856 - val_accuracy: 0.9280\n",
            "Epoch 3/20\n",
            "1250/1250 [==============================] - 3s 2ms/step - loss: 0.1446 - accuracy: 0.9441 - val_loss: 0.1438 - val_accuracy: 0.9427\n",
            "Epoch 4/20\n",
            "1250/1250 [==============================] - 3s 3ms/step - loss: 0.1077 - accuracy: 0.9585 - val_loss: 0.1264 - val_accuracy: 0.9489\n",
            "Epoch 5/20\n",
            "1250/1250 [==============================] - 3s 2ms/step - loss: 0.0886 - accuracy: 0.9657 - val_loss: 0.1196 - val_accuracy: 0.9518\n",
            "Epoch 6/20\n",
            "1250/1250 [==============================] - 3s 2ms/step - loss: 0.0750 - accuracy: 0.9710 - val_loss: 0.1061 - val_accuracy: 0.9589\n",
            "Epoch 7/20\n",
            "1250/1250 [==============================] - 3s 2ms/step - loss: 0.0635 - accuracy: 0.9764 - val_loss: 0.1060 - val_accuracy: 0.9591\n",
            "Epoch 8/20\n",
            "1250/1250 [==============================] - 3s 2ms/step - loss: 0.0581 - accuracy: 0.9786 - val_loss: 0.1019 - val_accuracy: 0.9618\n",
            "Epoch 9/20\n",
            "1250/1250 [==============================] - 4s 3ms/step - loss: 0.0503 - accuracy: 0.9808 - val_loss: 0.1052 - val_accuracy: 0.9591\n",
            "Epoch 10/20\n",
            "1250/1250 [==============================] - 3s 2ms/step - loss: 0.0470 - accuracy: 0.9822 - val_loss: 0.1096 - val_accuracy: 0.9547\n",
            "Epoch 11/20\n",
            "1250/1250 [==============================] - 3s 2ms/step - loss: 0.0415 - accuracy: 0.9845 - val_loss: 0.1251 - val_accuracy: 0.9600\n",
            "Epoch 12/20\n",
            "1250/1250 [==============================] - 3s 2ms/step - loss: 0.0411 - accuracy: 0.9845 - val_loss: 0.1060 - val_accuracy: 0.9598\n",
            "Epoch 13/20\n",
            "1250/1250 [==============================] - 3s 3ms/step - loss: 0.0356 - accuracy: 0.9866 - val_loss: 0.1117 - val_accuracy: 0.9605\n",
            "Epoch 14/20\n",
            "1250/1250 [==============================] - 4s 3ms/step - loss: 0.0349 - accuracy: 0.9865 - val_loss: 0.1015 - val_accuracy: 0.9666\n",
            "Epoch 15/20\n",
            "1250/1250 [==============================] - 3s 2ms/step - loss: 0.0303 - accuracy: 0.9886 - val_loss: 0.1187 - val_accuracy: 0.9621\n",
            "Epoch 16/20\n",
            "1250/1250 [==============================] - 3s 2ms/step - loss: 0.0319 - accuracy: 0.9882 - val_loss: 0.1090 - val_accuracy: 0.9662\n",
            "Epoch 17/20\n",
            "1250/1250 [==============================] - 3s 2ms/step - loss: 0.0313 - accuracy: 0.9891 - val_loss: 0.1111 - val_accuracy: 0.9657\n",
            "Epoch 18/20\n",
            "1250/1250 [==============================] - 4s 3ms/step - loss: 0.0255 - accuracy: 0.9908 - val_loss: 0.1309 - val_accuracy: 0.9637\n",
            "Epoch 19/20\n",
            "1250/1250 [==============================] - 3s 2ms/step - loss: 0.0287 - accuracy: 0.9894 - val_loss: 0.1288 - val_accuracy: 0.9605\n",
            "Epoch 20/20\n",
            "1250/1250 [==============================] - 3s 2ms/step - loss: 0.0253 - accuracy: 0.9905 - val_loss: 0.1183 - val_accuracy: 0.9658\n"
          ]
        },
        {
          "data": {
            "text/plain": [
              "<keras.src.callbacks.History at 0x7e15a7f91a80>"
            ]
          },
          "execution_count": 109,
          "metadata": {},
          "output_type": "execute_result"
        }
      ],
      "source": [
        "# Train the model\n",
        "model.fit(X_train, y_train, epochs=20, batch_size=32, validation_data=(X_val, y_val))\n"
      ]
    },
    {
      "cell_type": "code",
      "execution_count": 118,
      "metadata": {
        "id": "86IXjRiaxp7H"
      },
      "outputs": [],
      "source": [
        "def predict_winner(Pokemon1,Pokemon2):\n",
        "  Pokemon1_features = pokemon_id_to_features[Pokemon1]\n",
        "  Pokemon2_features = pokemon_id_to_features[Pokemon2]\n",
        "  battle_features = np.hstack([Pokemon1_features,Pokemon2_features])\n",
        "  battle_features = scaler.transform([battle_features])\n",
        "  prediction = model.predict(battle_features)\n",
        "  if prediction < 0.5:\n",
        "    return Pokemon1\n",
        "  else:\n",
        "    return Pokemon2"
      ]
    },
    {
      "cell_type": "code",
      "execution_count": 124,
      "metadata": {
        "colab": {
          "base_uri": "https://localhost:8080/"
        },
        "id": "Q1RSY4k5zFAG",
        "outputId": "e5aa04c0-e9e0-4ca6-9fc0-354aaa8335a4"
      },
      "outputs": [
        {
          "name": "stdout",
          "output_type": "stream",
          "text": [
            "1/1 [==============================] - 0s 42ms/step\n",
            "The predicted winner between Pokémon Mega Rayquaza and Pokémon Latias is Pokémon Mega Rayquaza\n"
          ]
        }
      ],
      "source": [
        "first_pokemon_id = 427 # Mega Rayquaza\n",
        "second_pokemon_id = 418  # Latias\n",
        "\n",
        "predicted_winner = predict_winner(first_pokemon_id, second_pokemon_id)\n",
        "print(f'The predicted winner between Pokémon {pokemon.iloc[first_pokemon_id-1,1]} and Pokémon {pokemon.iloc[second_pokemon_id-1,1]} is Pokémon {pokemon.iloc[predicted_winner-1,1]}')"
      ]
    },
    {
      "cell_type": "code",
      "execution_count": null,
      "metadata": {
        "id": "7jbrydpOzIeU"
      },
      "outputs": [],
      "source": []
    }
  ],
  "metadata": {
    "colab": {
      "authorship_tag": "ABX9TyPBAHSmveWFkIEOyNnReKXN",
      "include_colab_link": true,
      "provenance": []
    },
    "kernelspec": {
      "display_name": "Python 3",
      "name": "python3"
    },
    "language_info": {
      "name": "python"
    }
  },
  "nbformat": 4,
  "nbformat_minor": 0
}
