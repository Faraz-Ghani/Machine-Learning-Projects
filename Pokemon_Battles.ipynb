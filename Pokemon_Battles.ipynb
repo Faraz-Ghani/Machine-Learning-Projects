{
  "cells": [
    {
      "cell_type": "markdown",
      "metadata": {
        "colab_type": "text",
        "id": "view-in-github"
      },
      "source": [
        "<a href=\"https://colab.research.google.com/github/Faraz-Ghani/Machine-Learning-Projects/blob/main/Pokemon-Battle-Prediction/Pokemon_Battles.ipynb\" target=\"_parent\"><img src=\"https://colab.research.google.com/assets/colab-badge.svg\" alt=\"Open In Colab\"/></a>"
      ]
    },
    {
      "cell_type": "markdown",
      "metadata": {
        "id": "bg4XHKUj3Pzz"
      },
      "source": [
        "#### Import the Libararies"
      ]
    },
    {
      "cell_type": "code",
      "execution_count": 24,
      "metadata": {
        "id": "QqXsVkddiiTR"
      },
      "outputs": [],
      "source": [
        "import pandas as pd\n",
        "import numpy as np\n",
        "import tensorflow as tf\n",
        "from sklearn.model_selection import train_test_split\n",
        "from sklearn.preprocessing import OneHotEncoder,StandardScaler\n",
        "from tensorflow.keras.models import Sequential\n",
        "from tensorflow.keras.layers import Dense\n",
        "import joblib"
      ]
    },
    {
      "cell_type": "markdown",
      "metadata": {
        "id": "uwcFVkDHjPfy"
      },
      "source": [
        "#### Import the datasets"
      ]
    },
    {
      "cell_type": "code",
      "execution_count": 4,
      "metadata": {
        "id": "bFmBt6j2ip-j"
      },
      "outputs": [],
      "source": [
        "combat = pd.read_csv(\"content/combats.csv\")\n",
        "pokemon = pd.read_csv(\"content/pokemon.csv\")\n",
        "\n",
        "pokemon.head()\n",
        "\n",
        "pokemon['Type 2'].fillna('None', inplace=True)  # Fill NaNs in 'Type 2' since many pokemon are single type\n"
      ]
    },
    {
      "cell_type": "markdown",
      "metadata": {},
      "source": [
        "#### Format the relevant features of all pokemon"
      ]
    },
    {
      "cell_type": "code",
      "execution_count": 5,
      "metadata": {
        "id": "KgH7Jx3Zmnel"
      },
      "outputs": [],
      "source": [
        "encoder = OneHotEncoder(sparse_output=False, handle_unknown='ignore')\n",
        "types = pokemon[['Type 1', 'Type 2']]  # Collect types of all pokemon\n",
        "encoded_types = encoder.fit_transform(types) # Use One hot encoding for types\n",
        "stats = pokemon.iloc[:,4:10].values # Collect stats of all pokemon\n",
        "legendary = pokemon.iloc[:,11].astype(int).values.reshape(-1, 1) #Check legendary status"
      ]
    },
    {
      "cell_type": "markdown",
      "metadata": {},
      "source": [
        "#### Map each Pokedex ID to the relevant data of that pokemon"
      ]
    },
    {
      "cell_type": "code",
      "execution_count": 6,
      "metadata": {
        "id": "FflHaFPwmrfU"
      },
      "outputs": [],
      "source": [
        "pokemon_features = np.hstack([stats, legendary, encoded_types]) # Convert collected data to fetaures\n",
        "\n",
        "# Create a mapping from Pokémon ID to their features\n",
        "pokemon_id_to_features = dict(zip(pokemon['#'], pokemon_features))"
      ]
    },
    {
      "cell_type": "markdown",
      "metadata": {},
      "source": [
        "#### Collect the stats of both pokemon from each of the collected battle,"
      ]
    },
    {
      "cell_type": "code",
      "execution_count": 7,
      "metadata": {
        "id": "FLqfuZF9sVJg"
      },
      "outputs": [],
      "source": [
        "def combat_data(combat, pokemon_id_to_features):\n",
        "  features, labels = [],[]\n",
        "\n",
        "  for _,row in combat.iterrows(): #For battle\n",
        "    pokemon_a_features = pokemon_id_to_features[row['First_pokemon']] # Get stats of first pokemon\n",
        "    pokemon_b_features = pokemon_id_to_features[row['Second_pokemon']] # # Get stats of second pokemon\n",
        "    #Convert both pokemon data to a horizontal stack and then append that horizontal stack to the features\n",
        "    features.append(np.hstack([pokemon_a_features,pokemon_b_features]))\n",
        "    if row['Winner'] == row['First_pokemon']:\n",
        "      labels.append(0) #Return zero if first pokemon is winner\n",
        "    else:\n",
        "      labels.append(1) #Return 1 if second pokemon is winner\n",
        "  # Return both X and Y\n",
        "  return np.array(features), np.array(labels)\n"
      ]
    },
    {
      "cell_type": "markdown",
      "metadata": {},
      "source": [
        "#### Declare the collected Stats as X(Features) & the winner as Y(Label)"
      ]
    },
    {
      "cell_type": "code",
      "execution_count": 8,
      "metadata": {
        "id": "EuaFZqrSuOEj"
      },
      "outputs": [],
      "source": [
        "X, y = combat_data(combat, pokemon_id_to_features)"
      ]
    },
    {
      "cell_type": "markdown",
      "metadata": {},
      "source": [
        "#### Split the dataset into Training Data & validation Data"
      ]
    },
    {
      "cell_type": "code",
      "execution_count": 9,
      "metadata": {
        "id": "13d_Jn8xuTlk"
      },
      "outputs": [],
      "source": [
        "# Split the data into training and validation sets\n",
        "X_train, X_val, y_train, y_val = train_test_split(X, y, test_size=0.2, random_state=42)\n"
      ]
    },
    {
      "cell_type": "markdown",
      "metadata": {},
      "source": [
        "#### Noramalize the new subsets of the datasets"
      ]
    },
    {
      "cell_type": "code",
      "execution_count": 10,
      "metadata": {
        "id": "Z-vijLRqvMfD"
      },
      "outputs": [],
      "source": [
        "# Normalization\n",
        "scaler = StandardScaler()\n",
        "X_train = scaler.fit_transform((X_train))\n",
        "X_val = scaler.transform(X_val)"
      ]
    },
    {
      "cell_type": "markdown",
      "metadata": {},
      "source": [
        "#### Define the architecture of the tensorflow model & compile it with the Adam optimizer"
      ]
    },
    {
      "cell_type": "code",
      "execution_count": 11,
      "metadata": {
        "id": "t7uQO_8zw6-Q"
      },
      "outputs": [],
      "source": [
        "# Define the model\n",
        "model = Sequential([\n",
        "    Dense(128,activation='relu',input_shape=(X_train.shape[1],)),\n",
        "    Dense(64,activation='relu'),\n",
        "    Dense(1,activation='sigmoid')\n",
        "])\n",
        "# Compile the model\n",
        "model.compile(optimizer='adam',loss='binary_crossentropy',metrics=['accuracy'])"
      ]
    },
    {
      "cell_type": "markdown",
      "metadata": {},
      "source": [
        "#### Train the Model for 20 Epochs"
      ]
    },
    {
      "cell_type": "code",
      "execution_count": 12,
      "metadata": {
        "colab": {
          "base_uri": "https://localhost:8080/"
        },
        "id": "nDT4D1CRxzlH",
        "outputId": "353ca9f2-0683-43e0-ad36-952b7596f4c3"
      },
      "outputs": [
        {
          "name": "stdout",
          "output_type": "stream",
          "text": [
            "Epoch 1/20\n",
            "1250/1250 [==============================] - 4s 2ms/step - loss: 0.3515 - accuracy: 0.8616 - val_loss: 0.2868 - val_accuracy: 0.9011\n",
            "Epoch 2/20\n",
            "1250/1250 [==============================] - 3s 3ms/step - loss: 0.2246 - accuracy: 0.9161 - val_loss: 0.1730 - val_accuracy: 0.9345\n",
            "Epoch 3/20\n",
            "1250/1250 [==============================] - 3s 3ms/step - loss: 0.1464 - accuracy: 0.9452 - val_loss: 0.1401 - val_accuracy: 0.9459\n",
            "Epoch 4/20\n",
            "1250/1250 [==============================] - 3s 2ms/step - loss: 0.1118 - accuracy: 0.9565 - val_loss: 0.1429 - val_accuracy: 0.9400\n",
            "Epoch 5/20\n",
            "1250/1250 [==============================] - 6s 5ms/step - loss: 0.0915 - accuracy: 0.9650 - val_loss: 0.1234 - val_accuracy: 0.9484\n",
            "Epoch 6/20\n",
            "1250/1250 [==============================] - 5s 4ms/step - loss: 0.0781 - accuracy: 0.9703 - val_loss: 0.1132 - val_accuracy: 0.9539\n",
            "Epoch 7/20\n",
            "1250/1250 [==============================] - 3s 2ms/step - loss: 0.0681 - accuracy: 0.9746 - val_loss: 0.1011 - val_accuracy: 0.9604\n",
            "Epoch 8/20\n",
            "1250/1250 [==============================] - 3s 3ms/step - loss: 0.0606 - accuracy: 0.9769 - val_loss: 0.0976 - val_accuracy: 0.9633\n",
            "Epoch 9/20\n",
            "1250/1250 [==============================] - 3s 2ms/step - loss: 0.0499 - accuracy: 0.9815 - val_loss: 0.1123 - val_accuracy: 0.9568\n",
            "Epoch 10/20\n",
            "1250/1250 [==============================] - 3s 2ms/step - loss: 0.0501 - accuracy: 0.9812 - val_loss: 0.1164 - val_accuracy: 0.9547\n",
            "Epoch 11/20\n",
            "1250/1250 [==============================] - 6s 5ms/step - loss: 0.0444 - accuracy: 0.9835 - val_loss: 0.1166 - val_accuracy: 0.9592\n",
            "Epoch 12/20\n",
            "1250/1250 [==============================] - 4s 4ms/step - loss: 0.0399 - accuracy: 0.9849 - val_loss: 0.1025 - val_accuracy: 0.9639\n",
            "Epoch 13/20\n",
            "1250/1250 [==============================] - 4s 3ms/step - loss: 0.0380 - accuracy: 0.9855 - val_loss: 0.1077 - val_accuracy: 0.9626\n",
            "Epoch 14/20\n",
            "1250/1250 [==============================] - 3s 3ms/step - loss: 0.0335 - accuracy: 0.9871 - val_loss: 0.1061 - val_accuracy: 0.9643\n",
            "Epoch 15/20\n",
            "1250/1250 [==============================] - 4s 3ms/step - loss: 0.0355 - accuracy: 0.9868 - val_loss: 0.1267 - val_accuracy: 0.9604\n",
            "Epoch 16/20\n",
            "1250/1250 [==============================] - 3s 3ms/step - loss: 0.0294 - accuracy: 0.9892 - val_loss: 0.1140 - val_accuracy: 0.9629\n",
            "Epoch 17/20\n",
            "1250/1250 [==============================] - 5s 4ms/step - loss: 0.0300 - accuracy: 0.9895 - val_loss: 0.1199 - val_accuracy: 0.9615\n",
            "Epoch 18/20\n",
            "1250/1250 [==============================] - 7s 5ms/step - loss: 0.0274 - accuracy: 0.9903 - val_loss: 0.1113 - val_accuracy: 0.9655\n",
            "Epoch 19/20\n",
            "1250/1250 [==============================] - 6s 5ms/step - loss: 0.0266 - accuracy: 0.9908 - val_loss: 0.1175 - val_accuracy: 0.9642\n",
            "Epoch 20/20\n",
            "1250/1250 [==============================] - 3s 2ms/step - loss: 0.0229 - accuracy: 0.9920 - val_loss: 0.1103 - val_accuracy: 0.9681\n"
          ]
        },
        {
          "data": {
            "text/plain": [
              "<keras.src.callbacks.History at 0x19054f368e0>"
            ]
          },
          "execution_count": 12,
          "metadata": {},
          "output_type": "execute_result"
        }
      ],
      "source": [
        "# Train the model\n",
        "model.fit(X_train, y_train, epochs=20, batch_size=32, validation_data=(X_val, y_val))"
      ]
    },
    {
      "cell_type": "markdown",
      "metadata": {},
      "source": [
        "#### Define the prediction Function"
      ]
    },
    {
      "cell_type": "code",
      "execution_count": 17,
      "metadata": {
        "id": "86IXjRiaxp7H"
      },
      "outputs": [],
      "source": [
        "def predict_winner(Pokemon1,Pokemon2):\n",
        "  Pokemon1_features = pokemon_id_to_features[Pokemon1]\n",
        "  Pokemon2_features = pokemon_id_to_features[Pokemon2]\n",
        "  battle_features = np.hstack([Pokemon1_features,Pokemon2_features])\n",
        "  battle_features = scaler.transform([battle_features])\n",
        "  prediction = model.predict(battle_features)\n",
        "  if prediction < 0.5:\n",
        "    return Pokemon1\n",
        "  else:\n",
        "    return Pokemon2"
      ]
    },
    {
      "cell_type": "markdown",
      "metadata": {},
      "source": [
        "#### Test the model"
      ]
    },
    {
      "cell_type": "code",
      "execution_count": 26,
      "metadata": {
        "colab": {
          "base_uri": "https://localhost:8080/"
        },
        "id": "Q1RSY4k5zFAG",
        "outputId": "e5aa04c0-e9e0-4ca6-9fc0-354aaa8335a4"
      },
      "outputs": [
        {
          "name": "stdout",
          "output_type": "stream",
          "text": [
            "1/1 [==============================] - 0s 34ms/step\n",
            "The predicted winner between Pokémon Mega Charizard X and Pokémon Charizard is Pokémon Charizard\n"
          ]
        }
      ],
      "source": [
        "first_pokemon_id = 427 # Mega Rayquaza\n",
        "second_pokemon_id = 418  # Latias\n",
        "\n",
        "predicted_winner = predict_winner(first_pokemon_id, second_pokemon_id)\n",
        "print(f'The predicted winner between Pokémon {pokemon.iloc[first_pokemon_id-1,1]} and Pokémon {pokemon.iloc[second_pokemon_id-1,1]} is Pokémon {pokemon.iloc[predicted_winner-1,1]}')"
      ]
    },
    {
      "cell_type": "markdown",
      "metadata": {},
      "source": [
        "#### Save the model"
      ]
    },
    {
      "cell_type": "code",
      "execution_count": 25,
      "metadata": {},
      "outputs": [
        {
          "data": {
            "text/plain": [
              "['standard_scaler.pkl']"
            ]
          },
          "execution_count": 25,
          "metadata": {},
          "output_type": "execute_result"
        }
      ],
      "source": [
        "model.save('my_model.keras')\n",
        "joblib.dump(encoder, 'one_hot_encoder.pkl')\n",
        "joblib.dump(scaler, 'standard_scaler.pkl')"
      ]
    },
    {
      "cell_type": "code",
      "execution_count": null,
      "metadata": {},
      "outputs": [],
      "source": []
    }
  ],
  "metadata": {
    "colab": {
      "authorship_tag": "ABX9TyPBAHSmveWFkIEOyNnReKXN",
      "include_colab_link": true,
      "provenance": []
    },
    "kernelspec": {
      "display_name": "Python 3",
      "name": "python3"
    },
    "language_info": {
      "codemirror_mode": {
        "name": "ipython",
        "version": 3
      },
      "file_extension": ".py",
      "mimetype": "text/x-python",
      "name": "python",
      "nbconvert_exporter": "python",
      "pygments_lexer": "ipython3",
      "version": "3.8.10"
    }
  },
  "nbformat": 4,
  "nbformat_minor": 0
}
